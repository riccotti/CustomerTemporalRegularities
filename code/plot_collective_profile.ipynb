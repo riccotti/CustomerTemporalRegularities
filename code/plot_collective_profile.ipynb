{
 "cells": [
  {
   "cell_type": "code",
   "execution_count": 1,
   "metadata": {},
   "outputs": [
    {
     "name": "stdout",
     "output_type": "stream",
     "text": [
      "Populating the interactive namespace from numpy and matplotlib\n"
     ]
    }
   ],
   "source": [
    "%pylab inline\n",
    "import json\n",
    "import math\n",
    "import string\n",
    "import numpy as np\n",
    "import pandas as pd\n",
    "import scipy.stats as stats\n",
    "from suffix_tree import SuffixTree\n",
    "import matplotlib.pyplot as plt\n",
    "from collections import defaultdict\n",
    "from scipy.stats.stats import pearsonr"
   ]
  },
  {
   "cell_type": "code",
   "execution_count": null,
   "metadata": {
    "collapsed": true
   },
   "outputs": [],
   "source": []
  },
  {
   "cell_type": "code",
   "execution_count": null,
   "metadata": {
    "collapsed": true
   },
   "outputs": [],
   "source": []
  },
  {
   "cell_type": "code",
   "execution_count": 52,
   "metadata": {
    "collapsed": true
   },
   "outputs": [],
   "source": [
    "path = './'\n",
    "colfilejson = path + 'itp_col_seq.json'\n",
    "indfilejson = path + 'dataset_coopometro_livorno_prov_itp_all.json'"
   ]
  },
  {
   "cell_type": "code",
   "execution_count": 53,
   "metadata": {
    "collapsed": true
   },
   "outputs": [],
   "source": [
    "# Read col seq\n",
    "data = open(colfilejson, 'r')\n",
    "col_seq = dict()\n",
    "for row in data:\n",
    "    itp = json.loads(row.rstrip('\\n'))\n",
    "    col_seq[itp['customer_id']] = itp['col_pattern_seq']\n",
    "data.close()"
   ]
  },
  {
   "cell_type": "code",
   "execution_count": 54,
   "metadata": {},
   "outputs": [],
   "source": [
    "# Read individual temporal profiles\n",
    "data = open(indfilejson, 'r')\n",
    "\n",
    "ind_seq = dict()\n",
    "nbr_pattern = dict()\n",
    "psize_pattern = dict()\n",
    "pur_pattern = dict()\n",
    "ent_pattern = dict()\n",
    "\n",
    "for row in data:\n",
    "    try:\n",
    "        itp = json.loads(row.rstrip('\\n'))\n",
    "        customer_id = itp['customer_id']\n",
    "        ind_seq[customer_id] = itp['pattern_seq']\n",
    "        nbr_pattern[customer_id] = itp['npatterns']\n",
    "        psize_pattern[customer_id] = itp['patterns_size']\n",
    "        pur_pattern[customer_id] = purity(itp['patterns_size'].values())\n",
    "        ent_pattern[customer_id] = entropy(itp['patterns_size'].values(), classes=len(itp['patterns_size'].values()))\n",
    "    except:\n",
    "        continue\n",
    "data.close()"
   ]
  },
  {
   "cell_type": "code",
   "execution_count": 55,
   "metadata": {
    "collapsed": true
   },
   "outputs": [],
   "source": [
    "def purity(values):\n",
    "    return 1.0 * np.max(values) / np.sum(values)"
   ]
  },
  {
   "cell_type": "code",
   "execution_count": 56,
   "metadata": {
    "collapsed": true
   },
   "outputs": [],
   "source": [
    "def entropy(x, classes=None):\n",
    "    val_entropy = 0\n",
    "    n = np.sum(x)\n",
    "    for freq in x:\n",
    "        if freq == 0:\n",
    "            continue\n",
    "        p = 1.0 * freq / n\n",
    "        val_entropy -= p * np.log2(p)\n",
    "    if classes is not None:\n",
    "        val_entropy /= np.log2(classes)\n",
    "    return val_entropy"
   ]
  },
  {
   "cell_type": "code",
   "execution_count": 57,
   "metadata": {},
   "outputs": [],
   "source": [
    "num2alpha = dict(zip(range(0, 26), string.ascii_lowercase))\n",
    "alpha2num = dict(zip(string.ascii_lowercase, range(0, 26)))\n",
    "num2alpha_col = dict(zip(range(0, len(string.ascii_letters)), string.ascii_letters))\n",
    "alpha2num_col = dict(zip(string.ascii_letters, range(0, len(string.ascii_letters))))"
   ]
  },
  {
   "cell_type": "code",
   "execution_count": 58,
   "metadata": {},
   "outputs": [],
   "source": [
    "customer_ind2col = dict()\n",
    "for customer_id in ind_seq:\n",
    "    ind2col = dict()\n",
    "    for i,c in zip(ind_seq[customer_id], col_seq[customer_id]):\n",
    "        ind2col[i] = c\n",
    "    customer_ind2col[customer_id] = ind2col"
   ]
  },
  {
   "cell_type": "code",
   "execution_count": 59,
   "metadata": {},
   "outputs": [],
   "source": [
    "col_nbr_pattern = dict()\n",
    "col_psize_pattern = dict()\n",
    "col_pur_pattern = dict()\n",
    "col_ent_pattern = dict()\n",
    "\n",
    "for customer_id in customer_ind2col:\n",
    "    col_nbr_pattern[customer_id] = len(set(customer_ind2col[customer_id].values()))\n",
    "    col_psize_pattern[customer_id] = dict()\n",
    "    for pattern_id in psize_pattern[customer_id]:\n",
    "        col_pattern_id = customer_ind2col[customer_id][num2alpha[int(pattern_id)]]\n",
    "        if alpha2num_col[col_pattern_id] not in col_psize_pattern[customer_id]:\n",
    "            col_psize_pattern[customer_id][alpha2num_col[col_pattern_id]] = 0\n",
    "        col_psize_pattern[customer_id][alpha2num_col[col_pattern_id]] += psize_pattern[customer_id][pattern_id]\n",
    "        col_pur_pattern[customer_id] = purity(col_psize_pattern[customer_id].values())\n",
    "        col_ent_pattern[customer_id] = entropy(col_psize_pattern[customer_id].values(), \n",
    "                                               classes=len(col_psize_pattern[customer_id].values()))"
   ]
  },
  {
   "cell_type": "code",
   "execution_count": 60,
   "metadata": {},
   "outputs": [
    {
     "data": {
      "text/plain": [
       "({u'0': 21,\n",
       "  u'1': 39,\n",
       "  u'2': 23,\n",
       "  u'3': 36,\n",
       "  u'4': 29,\n",
       "  u'5': 22,\n",
       "  u'6': 21,\n",
       "  u'7': 63},\n",
       " {1: 36, 14: 22, 21: 29, 24: 21, 25: 23, 28: 21, 29: 63, 31: 39})"
      ]
     },
     "execution_count": 60,
     "metadata": {},
     "output_type": "execute_result"
    }
   ],
   "source": [
    "psize_pattern[customer_id], col_psize_pattern[customer_id]"
   ]
  },
  {
   "cell_type": "code",
   "execution_count": null,
   "metadata": {
    "collapsed": true
   },
   "outputs": [],
   "source": []
  },
  {
   "cell_type": "code",
   "execution_count": 61,
   "metadata": {
    "collapsed": true
   },
   "outputs": [],
   "source": [
    "fileclustering = '/Users/riccardo/Documents/PhD/Cooppometro/cooppometro/experiments/20160419_dsaa/img/k-means_cosine_filt/'\n",
    "fileclustering += 'cosine_distance_filt_customers2cluster.csv'"
   ]
  },
  {
   "cell_type": "code",
   "execution_count": 62,
   "metadata": {
    "collapsed": true
   },
   "outputs": [],
   "source": [
    "df = pd.read_csv(fileclustering, sep=';', skipinitialspace=True)"
   ]
  },
  {
   "cell_type": "code",
   "execution_count": 63,
   "metadata": {
    "collapsed": true
   },
   "outputs": [],
   "source": [
    "customers = df['customer_id'].unique()\n",
    "tot_collective = len(df['label'].unique())"
   ]
  },
  {
   "cell_type": "code",
   "execution_count": 64,
   "metadata": {},
   "outputs": [],
   "source": [
    "random_collective_list_all = list()\n",
    "for customer_id in sorted(customers):\n",
    "    df_ind = df[df['customer_id'] == customer_id]\n",
    "    ndistinctive = len(df_ind['profile_id'].unique())\n",
    "    collective_list = list(df_ind['label'].unique())\n",
    "    ncollective = len(collective_list)\n",
    "    \n",
    "    random_collective_list = np.random.choice(range(0, tot_collective), size=ndistinctive, replace=True)\n",
    "    nrandom_collective = len(set(random_collective_list))\n",
    "    \n",
    "    #print customer_id, ndistinctive, ncollective, nrandom_collective\n",
    "    random_collective_list_all.append(nrandom_collective)"
   ]
  },
  {
   "cell_type": "code",
   "execution_count": 65,
   "metadata": {},
   "outputs": [
    {
     "data": {
      "text/plain": [
       "[5, 12, 8, 8, 6, 7, 8, 5, 5, 8]"
      ]
     },
     "execution_count": 65,
     "metadata": {},
     "output_type": "execute_result"
    }
   ],
   "source": [
    "random_collective_list_all[:10]"
   ]
  },
  {
   "cell_type": "code",
   "execution_count": null,
   "metadata": {
    "collapsed": true
   },
   "outputs": [],
   "source": []
  },
  {
   "cell_type": "code",
   "execution_count": 66,
   "metadata": {},
   "outputs": [
    {
     "data": {
      "image/png": "[encoded data removed]",
      "text/plain": [
       "<matplotlib.figure.Figure at 0x1234aa4d0>"
      ]
     },
     "metadata": {},
     "output_type": "display_data"
    }
   ],
   "source": [
    "fig, ax = plt.subplots(figsize=(6, 5))\n",
    "plt.subplots_adjust(left=0.1, right=0.95, top=0.9, bottom=0.14)\n",
    "\n",
    "set_nbr_patterns = set(col_nbr_pattern.values())\n",
    "nbr_diff_nbr_patterns = len(set_nbr_patterns)\n",
    "\n",
    "plt.hist(random_collective_list_all, bins=range(min(set_nbr_patterns)-1,nbr_diff_nbr_patterns,1), \n",
    "         color='gray', alpha=0.8, hatch='\\\\', label='null')\n",
    "plt.hist(col_nbr_pattern.values(), bins=range(min(set_nbr_patterns)-1,nbr_diff_nbr_patterns,1), \n",
    "         color='#ce000c', alpha=0.9, hatch='/', label='coll')\n",
    "plt.ylabel('customers', fontsize=26)\n",
    "plt.xlabel('collective footprints', fontsize=26)\n",
    "plt.tick_params(axis='both', which='major', labelsize=24)\n",
    "plt.xticks(np.asarray(range(min(set_nbr_patterns)-1,nbr_diff_nbr_patterns + 1,1)) + 0.5, \n",
    "           range(min(set_nbr_patterns)-1,nbr_diff_nbr_patterns,1), fontsize=20)\n",
    "plt.yticks(np.arange(0,35000,5000), ['%dk' % (v/1000.0) for v in np.arange(0,35000,5000)])\n",
    "\n",
    "plt.text(1, 18000, r'$\\mu=%.2f$' % np.mean(col_nbr_pattern.values()), fontsize=26)\n",
    "plt.text(1, 15000, r'$\\sigma=%.2f$' % np.std(col_nbr_pattern.values()), fontsize=26)\n",
    "\n",
    "plt.legend(loc='best', fontsize=26, ncol=1, columnspacing=0.2, labelspacing=0.05,\n",
    "           handlelength=1.2, borderpad=0, handletextpad=0.2, frameon=False)\n",
    "\n",
    "path_plot = './'\n",
    "plt.savefig(path_plot + 'col_dist_cf.png', format='png', bbox_inches='tight')"
   ]
  },
  {
   "cell_type": "code",
   "execution_count": 322,
   "metadata": {},
   "outputs": [
    {
     "data": {
      "image/png": "[encoded data removed]",
      "text/plain": [
       "<matplotlib.figure.Figure at 0x1bae64f50>"
      ]
     },
     "metadata": {},
     "output_type": "display_data"
    }
   ],
   "source": [
    "fig, ax = plt.subplots(figsize=(6, 5))\n",
    "plt.subplots_adjust(left=0.1, right=0.95, top=0.9, bottom=0.14)\n",
    "\n",
    "values = list()\n",
    "for v in col_ent_pattern.values():\n",
    "    if str(v) != 'nan':\n",
    "        values.append(v)\n",
    "plt.hist(values, bins=np.arange(0.0, 1.05, 0.05), color='#ce000c', hatch='/')\n",
    "plt.ylabel('customers', fontsize=26)\n",
    "plt.xlabel('entropy', fontsize=26)\n",
    "plt.tick_params(axis='both', which='major', labelsize=24)\n",
    "plt.yscale('log')\n",
    "plt.xlim([0,1])\n",
    "\n",
    "plt.text(0.2, 10**3+2*10**3, r'$\\mu=%.2f$' % np.mean(values), fontsize=26)\n",
    "plt.text(0.2, 10**3+8*10**3, r'$\\sigma=%.2f$' % np.std(values), fontsize=26)\n",
    "\n",
    "path_plot = './'\n",
    "plt.savefig(path_plot + 'col_dist_ent.png', format='png', bbox_inches='tight')"
   ]
  },
  {
   "cell_type": "code",
   "execution_count": 177,
   "metadata": {},
   "outputs": [
    {
     "name": "stdout",
     "output_type": "stream",
     "text": [
      "5.25358717072 20899.0302897\n"
     ]
    }
   ],
   "source": [
    "from scipy.optimize import curve_fit\n",
    "\n",
    "def fun(x, a, b):\n",
    "    return b * np.power(x, a)\n",
    "\n",
    "values = list()\n",
    "for v in col_ent_pattern.values():\n",
    "    if str(v) != 'nan':\n",
    "        values.append(v)\n",
    "        \n",
    "val, bins = np.histogram(values, bins=np.arange(0, 1.05, 0.05))\n",
    "xdata = bins[1:]\n",
    "ydata = val\n",
    "curve_fit_opt, _ = curve_fit(fun, xdata, ydata)\n",
    "print curve_fit_opt[0], curve_fit_opt[1]"
   ]
  },
  {
   "cell_type": "code",
   "execution_count": 179,
   "metadata": {},
   "outputs": [
    {
     "data": {
      "text/plain": [
       "12015.31525038381"
      ]
     },
     "execution_count": 179,
     "metadata": {},
     "output_type": "execute_result"
    }
   ],
   "source": [
    "fun(0.9, 5.25358717072, 20899.0302897)"
   ]
  },
  {
   "cell_type": "code",
   "execution_count": 323,
   "metadata": {},
   "outputs": [
    {
     "data": {
      "image/png": "[encoded data removed]",
      "text/plain": [
       "<matplotlib.figure.Figure at 0x1bcaa3cd0>"
      ]
     },
     "metadata": {},
     "output_type": "display_data"
    }
   ],
   "source": [
    "fig, ax = plt.subplots(figsize=(6, 5))\n",
    "plt.subplots_adjust(left=0.1, right=0.95, top=0.9, bottom=0.14)\n",
    "\n",
    "plt.hist(col_pur_pattern.values(), bins=np.arange(0.0, 1.05, 0.05), color='#ce000c', hatch='/')\n",
    "plt.ylabel('customers', fontsize=26)\n",
    "plt.xlabel('purity', fontsize=26)\n",
    "plt.tick_params(axis='both', which='major', labelsize=24)\n",
    "#plt.yscale('log')\n",
    "#plt.xlim([0,1])\n",
    "plt.yticks(np.arange(0,15000,2500), ['%dk' % (v/1000.0) for v in np.arange(0,15000,2500)])\n",
    "\n",
    "plt.text(0.6, 8000, r'$\\mu=%.2f$' % np.mean(col_pur_pattern.values()), fontsize=26)\n",
    "plt.text(0.6, 9200, r'$\\sigma=%.2f$' % np.std(col_pur_pattern.values()), fontsize=26)\n",
    "\n",
    "path_plot = './'\n",
    "plt.savefig(path_plot + 'col_dist_pur.png', format='png', bbox_inches='tight')"
   ]
  },
  {
   "cell_type": "code",
   "execution_count": 67,
   "metadata": {},
   "outputs": [
    {
     "data": {
      "image/png": "[encoded data removed]",
      "text/plain": [
       "<matplotlib.figure.Figure at 0x1241dfe90>"
      ]
     },
     "metadata": {},
     "output_type": "display_data"
    }
   ],
   "source": [
    "fig, ax = plt.subplots(figsize=(6, 5))\n",
    "plt.subplots_adjust(left=0.1, right=0.95, top=0.9, bottom=0.14)\n",
    "\n",
    "#plt.hexbin(nbr_pattern.values(), col_nbr_pattern.values(), cmap='Reds')\n",
    "#plt.scatter(nbr_pattern.values(), col_nbr_pattern.values())\n",
    "values = list()\n",
    "count_ones = 0\n",
    "count_less = 0\n",
    "ratio_col_ind = dict()\n",
    "for customer_id in nbr_pattern:\n",
    "    v = 1.0*(col_nbr_pattern[customer_id]-1)/nbr_pattern[customer_id]\n",
    "    values.append(v)\n",
    "    if v == 1.0:\n",
    "        count_ones += 1\n",
    "    else:\n",
    "        count_less += 1\n",
    "    ratio_col_ind[customer_id] = v\n",
    "plt.hist(values, bins=np.arange(0.0, 1.1, 0.1), color='#ce000c', hatch='/')\n",
    "plt.ylabel('customers', fontsize=26)\n",
    "plt.xlabel('collective / individual', fontsize=26)\n",
    "plt.tick_params(axis='both', which='major', labelsize=24)\n",
    "plt.yticks(np.arange(0,40000,5000), ['%dk' % (v/1000.0) for v in np.arange(0,50000,5000)])\n",
    "\n",
    "plt.axvline(x=0.9, ymin=0, ymax=0.45, linewidth=3, color='k')\n",
    "plt.axhline(y=16000, xmin=0, xmax=0.9, linewidth=3, color='k')\n",
    "\n",
    "plt.annotate('%.2f' % (1.0*count_less/(count_less + count_ones)), xy=(0.5, 16000), xycoords='data',\n",
    "                xytext=(0.3, 30000), fontsize=26,\n",
    "                arrowprops=dict(facecolor='black', shrink=0.05),\n",
    "                horizontalalignment='right', verticalalignment='top',\n",
    "                )\n",
    "\n",
    "plt.annotate('%.2f' % (1.0*count_ones/(count_less + count_ones)), xy=(0.9, 34000), xycoords='data',\n",
    "                xytext=(0.7, 30000), fontsize=26,\n",
    "                arrowprops=dict(facecolor='black', shrink=0.05),\n",
    "                horizontalalignment='right', verticalalignment='top',\n",
    "                )\n",
    "\n",
    "path_plot = './'\n",
    "plt.savefig(path_plot + 'ind_col_dist_dcf.png', format='png', bbox_inches='tight')"
   ]
  },
  {
   "cell_type": "code",
   "execution_count": 17,
   "metadata": {
    "collapsed": true
   },
   "outputs": [],
   "source": [
    "regular_customers = list()\n",
    "changing_customers = list()\n",
    "for customer_id, val in col_nbr_pattern.iteritems():\n",
    "    if val <= 4:\n",
    "        regular_customers.append(customer_id)\n",
    "    else:\n",
    "        changing_customers.append(customer_id)"
   ]
  },
  {
   "cell_type": "code",
   "execution_count": 18,
   "metadata": {},
   "outputs": [
    {
     "data": {
      "text/plain": [
       "(24899, 66065)"
      ]
     },
     "execution_count": 18,
     "metadata": {},
     "output_type": "execute_result"
    }
   ],
   "source": [
    "len(regular_customers), len(changing_customers)"
   ]
  },
  {
   "cell_type": "code",
   "execution_count": 31,
   "metadata": {
    "collapsed": true
   },
   "outputs": [],
   "source": [
    "regular_footprints = defaultdict(int)\n",
    "for customer_id in regular_customers:\n",
    "    for pattern_id in col_psize_pattern[customer_id]:\n",
    "        regular_footprints[pattern_id] += 1 #col_psize_pattern[customer_id][pattern_id]"
   ]
  },
  {
   "cell_type": "code",
   "execution_count": 32,
   "metadata": {
    "collapsed": true
   },
   "outputs": [],
   "source": [
    "changing_footprints = defaultdict(int)\n",
    "for customer_id in changing_customers:\n",
    "    for pattern_id in col_psize_pattern[customer_id]:\n",
    "        changing_footprints[pattern_id] += 1 #col_psize_pattern[customer_id][pattern_id]"
   ]
  },
  {
   "cell_type": "code",
   "execution_count": 33,
   "metadata": {},
   "outputs": [
    {
     "data": {
      "text/plain": [
       "(46, 46)"
      ]
     },
     "execution_count": 33,
     "metadata": {},
     "output_type": "execute_result"
    }
   ],
   "source": [
    "len(regular_footprints), len(changing_footprints)"
   ]
  },
  {
   "cell_type": "code",
   "execution_count": 34,
   "metadata": {},
   "outputs": [
    {
     "data": {
      "text/plain": [
       "(0.5227603546380839, 0.1330928132503833)"
      ]
     },
     "execution_count": 34,
     "metadata": {},
     "output_type": "execute_result"
    }
   ],
   "source": [
    "purity(regular_footprints.values()), purity(changing_footprints.values())"
   ]
  },
  {
   "cell_type": "code",
   "execution_count": 35,
   "metadata": {},
   "outputs": [
    {
     "data": {
      "text/plain": [
       "(0.53411450352149847, 0.90137708877395206)"
      ]
     },
     "execution_count": 35,
     "metadata": {},
     "output_type": "execute_result"
    }
   ],
   "source": [
    "entropy(regular_footprints.values(), 46), entropy(changing_footprints.values(), 46)"
   ]
  },
  {
   "cell_type": "code",
   "execution_count": 39,
   "metadata": {},
   "outputs": [],
   "source": [
    "from scipy.stats import kendalltau"
   ]
  },
  {
   "cell_type": "code",
   "execution_count": 41,
   "metadata": {},
   "outputs": [
    {
     "data": {
      "text/plain": [
       "KendalltauResult(correlation=-0.095652173913043495, pvalue=0.34858009182473904)"
      ]
     },
     "execution_count": 41,
     "metadata": {},
     "output_type": "execute_result"
    }
   ],
   "source": [
    "kendalltau(sorted(regular_footprints, key=regular_footprints.get, reverse=True), sorted(changing_footprints, key=changing_footprints.get, reverse=True))"
   ]
  },
  {
   "cell_type": "code",
   "execution_count": 42,
   "metadata": {},
   "outputs": [
    {
     "data": {
      "text/plain": [
       "[29, 1, 38, 0, 4, 24, 28, 31, 25, 43]"
      ]
     },
     "execution_count": 42,
     "metadata": {},
     "output_type": "execute_result"
    }
   ],
   "source": [
    "sorted(regular_footprints, key=regular_footprints.get, reverse=True)[:10]"
   ]
  },
  {
   "cell_type": "code",
   "execution_count": 44,
   "metadata": {},
   "outputs": [
    {
     "data": {
      "text/plain": [
       "[29, 1, 14, 21, 31, 25, 4, 24, 19, 28]"
      ]
     },
     "execution_count": 44,
     "metadata": {},
     "output_type": "execute_result"
    }
   ],
   "source": [
    "sorted(changing_footprints, key=changing_footprints.get, reverse=True)[:10]"
   ]
  },
  {
   "cell_type": "code",
   "execution_count": null,
   "metadata": {
    "collapsed": true
   },
   "outputs": [],
   "source": []
  },
  {
   "cell_type": "code",
   "execution_count": null,
   "metadata": {
    "collapsed": true
   },
   "outputs": [],
   "source": []
  },
  {
   "cell_type": "code",
   "execution_count": null,
   "metadata": {
    "collapsed": true
   },
   "outputs": [],
   "source": []
  },
  {
   "cell_type": "code",
   "execution_count": 200,
   "metadata": {},
   "outputs": [],
   "source": [
    "import pickle\n",
    "pickle_file = open(path + 'regular_customers.pkl', 'w')\n",
    "pickle.dumps(regular_customers)\n",
    "pickle_file.close()\n",
    "\n",
    "pickle_file = open(path + 'changing_customers.pkl', 'w')\n",
    "pickle.dumps(changing_customers)\n",
    "pickle_file.close()"
   ]
  },
  {
   "cell_type": "code",
   "execution_count": 203,
   "metadata": {
    "collapsed": true
   },
   "outputs": [],
   "source": [
    "path = './'\n",
    "filename = path + 'dataset_coopometro_livorno_prov_filtered_iqr.csv'\n",
    "#input_file='../data/dataset_coopometro_livorno_prov_filtered_iqr.csv.tar.gz'\n",
    "df=pd.read_csv(filename, sep=';')"
   ]
  },
  {
   "cell_type": "code",
   "execution_count": 204,
   "metadata": {},
   "outputs": [
    {
     "data": {
      "text/html": [
       "<div>\n",
       "<table border=\"1\" class=\"dataframe\">\n",
       "  <thead>\n",
       "    <tr style=\"text-align: right;\">\n",
       "      <th></th>\n",
       "      <th>customer_id</th>\n",
       "      <th>negozio_id</th>\n",
       "      <th>scontrino_id</th>\n",
       "      <th>anno</th>\n",
       "      <th>mese</th>\n",
       "      <th>giorno</th>\n",
       "      <th>ora</th>\n",
       "      <th>giorno_settimana</th>\n",
       "      <th>settimana_anno</th>\n",
       "      <th>quantita</th>\n",
       "      <th>importo</th>\n",
       "    </tr>\n",
       "  </thead>\n",
       "  <tbody>\n",
       "    <tr>\n",
       "      <th>0</th>\n",
       "      <td>13</td>\n",
       "      <td>75</td>\n",
       "      <td>1114075078865</td>\n",
       "      <td>2008</td>\n",
       "      <td>1</td>\n",
       "      <td>19</td>\n",
       "      <td>12</td>\n",
       "      <td>6</td>\n",
       "      <td>3</td>\n",
       "      <td>1</td>\n",
       "      <td>28</td>\n",
       "    </tr>\n",
       "    <tr>\n",
       "      <th>1</th>\n",
       "      <td>13</td>\n",
       "      <td>75</td>\n",
       "      <td>1054075073181</td>\n",
       "      <td>2007</td>\n",
       "      <td>11</td>\n",
       "      <td>20</td>\n",
       "      <td>12</td>\n",
       "      <td>2</td>\n",
       "      <td>47</td>\n",
       "      <td>10</td>\n",
       "      <td>19</td>\n",
       "    </tr>\n",
       "    <tr>\n",
       "      <th>2</th>\n",
       "      <td>13</td>\n",
       "      <td>75</td>\n",
       "      <td>1263075035868</td>\n",
       "      <td>2008</td>\n",
       "      <td>6</td>\n",
       "      <td>16</td>\n",
       "      <td>12</td>\n",
       "      <td>1</td>\n",
       "      <td>24</td>\n",
       "      <td>13</td>\n",
       "      <td>22</td>\n",
       "    </tr>\n",
       "    <tr>\n",
       "      <th>3</th>\n",
       "      <td>13</td>\n",
       "      <td>75</td>\n",
       "      <td>2128075094470</td>\n",
       "      <td>2010</td>\n",
       "      <td>10</td>\n",
       "      <td>29</td>\n",
       "      <td>13</td>\n",
       "      <td>5</td>\n",
       "      <td>44</td>\n",
       "      <td>14</td>\n",
       "      <td>43</td>\n",
       "    </tr>\n",
       "    <tr>\n",
       "      <th>4</th>\n",
       "      <td>13</td>\n",
       "      <td>75</td>\n",
       "      <td>1381075063685</td>\n",
       "      <td>2008</td>\n",
       "      <td>10</td>\n",
       "      <td>12</td>\n",
       "      <td>12</td>\n",
       "      <td>7</td>\n",
       "      <td>41</td>\n",
       "      <td>9</td>\n",
       "      <td>15</td>\n",
       "    </tr>\n",
       "  </tbody>\n",
       "</table>\n",
       "</div>"
      ],
      "text/plain": [
       "   customer_id  negozio_id   scontrino_id  anno  mese  giorno  ora  \\\n",
       "0           13          75  1114075078865  2008     1      19   12   \n",
       "1           13          75  1054075073181  2007    11      20   12   \n",
       "2           13          75  1263075035868  2008     6      16   12   \n",
       "3           13          75  2128075094470  2010    10      29   13   \n",
       "4           13          75  1381075063685  2008    10      12   12   \n",
       "\n",
       "   giorno_settimana  settimana_anno  quantita  importo  \n",
       "0                 6               3         1       28  \n",
       "1                 2              47        10       19  \n",
       "2                 1              24        13       22  \n",
       "3                 5              44        14       43  \n",
       "4                 7              41         9       15  "
      ]
     },
     "execution_count": 204,
     "metadata": {},
     "output_type": "execute_result"
    }
   ],
   "source": [
    "df.head()"
   ]
  },
  {
   "cell_type": "code",
   "execution_count": 20,
   "metadata": {},
   "outputs": [
    {
     "ename": "KeyError",
     "evalue": "'importo'",
     "output_type": "error",
     "traceback": [
      "\u001b[0;31m---------------------------------------------------------------------------\u001b[0m",
      "\u001b[0;31mKeyError\u001b[0m                                  Traceback (most recent call last)",
      "\u001b[0;32m<ipython-input-20-9a498d193ee7>\u001b[0m in \u001b[0;36m<module>\u001b[0;34m()\u001b[0m\n\u001b[1;32m      4\u001b[0m \u001b[0;32mfor\u001b[0m \u001b[0mrow\u001b[0m \u001b[0;32min\u001b[0m \u001b[0mdf\u001b[0m\u001b[0;34m.\u001b[0m\u001b[0miterrows\u001b[0m\u001b[0;34m(\u001b[0m\u001b[0;34m)\u001b[0m\u001b[0;34m:\u001b[0m\u001b[0;34m\u001b[0m\u001b[0m\n\u001b[1;32m      5\u001b[0m     \u001b[0mcustomer_id\u001b[0m \u001b[0;34m=\u001b[0m \u001b[0mrow\u001b[0m\u001b[0;34m[\u001b[0m\u001b[0;36m1\u001b[0m\u001b[0;34m]\u001b[0m\u001b[0;34m[\u001b[0m\u001b[0;34m'customer_id'\u001b[0m\u001b[0;34m]\u001b[0m\u001b[0;34m\u001b[0m\u001b[0m\n\u001b[0;32m----> 6\u001b[0;31m     \u001b[0mimporto\u001b[0m \u001b[0;34m=\u001b[0m \u001b[0mfloat\u001b[0m\u001b[0;34m(\u001b[0m\u001b[0mrow\u001b[0m\u001b[0;34m[\u001b[0m\u001b[0;36m1\u001b[0m\u001b[0;34m]\u001b[0m\u001b[0;34m[\u001b[0m\u001b[0;34m'importo'\u001b[0m\u001b[0;34m]\u001b[0m\u001b[0;34m)\u001b[0m\u001b[0;34m\u001b[0m\u001b[0m\n\u001b[0m\u001b[1;32m      7\u001b[0m     \u001b[0;32mif\u001b[0m \u001b[0mcustomer_id\u001b[0m \u001b[0;32min\u001b[0m \u001b[0mtemp_dict\u001b[0m\u001b[0;34m:\u001b[0m\u001b[0;34m\u001b[0m\u001b[0m\n\u001b[1;32m      8\u001b[0m         \u001b[0mregular_tot_amount\u001b[0m\u001b[0;34m[\u001b[0m\u001b[0mcustomer_id\u001b[0m\u001b[0;34m]\u001b[0m\u001b[0;34m.\u001b[0m\u001b[0mappend\u001b[0m\u001b[0;34m(\u001b[0m\u001b[0mimporto\u001b[0m\u001b[0;34m)\u001b[0m\u001b[0;34m\u001b[0m\u001b[0m\n",
      "\u001b[0;32m/Library/Python/2.7/site-packages/pandas/core/series.py\u001b[0m in \u001b[0;36m__getitem__\u001b[0;34m(self, key)\u001b[0m\n\u001b[1;32m    519\u001b[0m     \u001b[0;32mdef\u001b[0m \u001b[0m__getitem__\u001b[0m\u001b[0;34m(\u001b[0m\u001b[0mself\u001b[0m\u001b[0;34m,\u001b[0m \u001b[0mkey\u001b[0m\u001b[0;34m)\u001b[0m\u001b[0;34m:\u001b[0m\u001b[0;34m\u001b[0m\u001b[0m\n\u001b[1;32m    520\u001b[0m         \u001b[0;32mtry\u001b[0m\u001b[0;34m:\u001b[0m\u001b[0;34m\u001b[0m\u001b[0m\n\u001b[0;32m--> 521\u001b[0;31m             \u001b[0mresult\u001b[0m \u001b[0;34m=\u001b[0m \u001b[0mself\u001b[0m\u001b[0;34m.\u001b[0m\u001b[0mindex\u001b[0m\u001b[0;34m.\u001b[0m\u001b[0mget_value\u001b[0m\u001b[0;34m(\u001b[0m\u001b[0mself\u001b[0m\u001b[0;34m,\u001b[0m \u001b[0mkey\u001b[0m\u001b[0;34m)\u001b[0m\u001b[0;34m\u001b[0m\u001b[0m\n\u001b[0m\u001b[1;32m    522\u001b[0m \u001b[0;34m\u001b[0m\u001b[0m\n\u001b[1;32m    523\u001b[0m             \u001b[0;32mif\u001b[0m \u001b[0;32mnot\u001b[0m \u001b[0mnp\u001b[0m\u001b[0;34m.\u001b[0m\u001b[0misscalar\u001b[0m\u001b[0;34m(\u001b[0m\u001b[0mresult\u001b[0m\u001b[0;34m)\u001b[0m\u001b[0;34m:\u001b[0m\u001b[0;34m\u001b[0m\u001b[0m\n",
      "\u001b[0;32m/Library/Python/2.7/site-packages/pandas/core/index.py\u001b[0m in \u001b[0;36mget_value\u001b[0;34m(self, series, key)\u001b[0m\n\u001b[1;32m   1607\u001b[0m                     \u001b[0;32mraise\u001b[0m \u001b[0mInvalidIndexError\u001b[0m\u001b[0;34m(\u001b[0m\u001b[0mkey\u001b[0m\u001b[0;34m)\u001b[0m\u001b[0;34m\u001b[0m\u001b[0m\n\u001b[1;32m   1608\u001b[0m                 \u001b[0;32melse\u001b[0m\u001b[0;34m:\u001b[0m\u001b[0;34m\u001b[0m\u001b[0m\n\u001b[0;32m-> 1609\u001b[0;31m                     \u001b[0;32mraise\u001b[0m \u001b[0me1\u001b[0m\u001b[0;34m\u001b[0m\u001b[0m\n\u001b[0m\u001b[1;32m   1610\u001b[0m             \u001b[0;32mexcept\u001b[0m \u001b[0mException\u001b[0m\u001b[0;34m:\u001b[0m  \u001b[0;31m# pragma: no cover\u001b[0m\u001b[0;34m\u001b[0m\u001b[0m\n\u001b[1;32m   1611\u001b[0m                 \u001b[0;32mraise\u001b[0m \u001b[0me1\u001b[0m\u001b[0;34m\u001b[0m\u001b[0m\n",
      "\u001b[0;31mKeyError\u001b[0m: 'importo'"
     ]
    }
   ],
   "source": [
    "regular_tot_amount = defaultdict(list)\n",
    "changing_tot_amount = defaultdict(list)\n",
    "temp_dict = {k: 0 for k in regular_customers}\n",
    "for row in df.iterrows():\n",
    "    customer_id = row[1]['customer_id']\n",
    "    importo = float(row[1]['importo'])\n",
    "    if customer_id in temp_dict:\n",
    "        regular_tot_amount[customer_id].append(importo)\n",
    "    else:\n",
    "        changing_tot_amount[customer_id].append(importo)"
   ]
  },
  {
   "cell_type": "code",
   "execution_count": 294,
   "metadata": {},
   "outputs": [],
   "source": [
    "regular_std = dict()\n",
    "for customer_id in regular_tot_amount:\n",
    "    regular_std[customer_id] = calculate_aggregate(regular_tot_amount[customer_id])['std']"
   ]
  },
  {
   "cell_type": "code",
   "execution_count": 295,
   "metadata": {
    "collapsed": true
   },
   "outputs": [],
   "source": [
    "changing_std = dict()\n",
    "for customer_id in changing_tot_amount:\n",
    "    changing_std[customer_id] = calculate_aggregate(changing_tot_amount[customer_id])['std']"
   ]
  },
  {
   "cell_type": "code",
   "execution_count": 279,
   "metadata": {},
   "outputs": [],
   "source": [
    "regular_tot_amount_sum = dict()\n",
    "for customer_id in regular_tot_amount:\n",
    "    regular_tot_amount_sum[customer_id] = np.sum(regular_tot_amount[customer_id])"
   ]
  },
  {
   "cell_type": "code",
   "execution_count": 280,
   "metadata": {
    "collapsed": true
   },
   "outputs": [],
   "source": [
    "changing_tot_amount_sum = dict()\n",
    "for customer_id in changing_tot_amount:\n",
    "    changing_tot_amount_sum[customer_id] = np.sum(changing_tot_amount[customer_id])"
   ]
  },
  {
   "cell_type": "code",
   "execution_count": 296,
   "metadata": {},
   "outputs": [
    {
     "data": {
      "text/plain": [
       "{'10p': 6.2129624829473116,\n",
       " '25p': 8.3965522998985396,\n",
       " '50p': 11.572149689556388,\n",
       " '75p': 16.013318591232519,\n",
       " '90p': 22.032645294822146,\n",
       " 'avg': 19.308760467925207,\n",
       " 'cov': 0.22188700150508953,\n",
       " 'gin': 0.50116307555930706,\n",
       " 'iqm': 11.754054765031423,\n",
       " 'iqr': 7.6167662913339793,\n",
       " 'kur': 6515.371805514109,\n",
       " 'mad': 14.385104697642952,\n",
       " 'med': 11.572149689556388,\n",
       " 'skw': 68.31218118046378,\n",
       " 'std': 87.020692230510463,\n",
       " 'var': 7572.6008762772244}"
      ]
     },
     "execution_count": 296,
     "metadata": {},
     "output_type": "execute_result"
    }
   ],
   "source": [
    "calculate_aggregate(regular_std.values())"
   ]
  },
  {
   "cell_type": "code",
   "execution_count": 297,
   "metadata": {},
   "outputs": [
    {
     "data": {
      "text/plain": [
       "{'10p': 16.544095981047271,\n",
       " '25p': 22.940148300314103,\n",
       " '50p': 35.146531215311981,\n",
       " '75p': 55.32553209044675,\n",
       " '90p': 82.415432578085216,\n",
       " 'avg': 44.042466513384568,\n",
       " 'cov': 1.3079697234488241,\n",
       " 'gin': 0.34693876928566836,\n",
       " 'iqm': 36.430282500703314,\n",
       " 'iqr': 32.38538379013265,\n",
       " 'kur': 1592.2026582580263,\n",
       " 'mad': 22.228741483810893,\n",
       " 'med': 35.146531215311981,\n",
       " 'skw': 17.584581808743664,\n",
       " 'std': 33.672389906132089,\n",
       " 'var': 1133.8298419905861}"
      ]
     },
     "execution_count": 297,
     "metadata": {},
     "output_type": "execute_result"
    }
   ],
   "source": [
    "calculate_aggregate(changing_std.values())"
   ]
  },
  {
   "cell_type": "code",
   "execution_count": 221,
   "metadata": {},
   "outputs": [
    {
     "data": {
      "text/plain": [
       "14189.756737218362"
      ]
     },
     "execution_count": 221,
     "metadata": {},
     "output_type": "execute_result"
    }
   ],
   "source": [
    "np.sum(regular_tot_amount.values())/len(regular_tot_amount)"
   ]
  },
  {
   "cell_type": "code",
   "execution_count": 222,
   "metadata": {},
   "outputs": [
    {
     "data": {
      "text/plain": [
       "24014.350557750229"
      ]
     },
     "execution_count": 222,
     "metadata": {},
     "output_type": "execute_result"
    }
   ],
   "source": [
    "np.sum(changing_tot_amount.values())/len(changing_tot_amount)"
   ]
  },
  {
   "cell_type": "code",
   "execution_count": 224,
   "metadata": {},
   "outputs": [
    {
     "data": {
      "text/plain": [
       "(24899, 66069)"
      ]
     },
     "execution_count": 224,
     "metadata": {},
     "output_type": "execute_result"
    }
   ],
   "source": [
    "len(regular_tot_amount), len(changing_tot_amount)"
   ]
  },
  {
   "cell_type": "code",
   "execution_count": 262,
   "metadata": {},
   "outputs": [
    {
     "data": {
      "text/plain": [
       "{1: 111, 29: 193}"
      ]
     },
     "execution_count": 262,
     "metadata": {},
     "output_type": "execute_result"
    }
   ],
   "source": [
    "col_psize_pattern[262146]"
   ]
  },
  {
   "cell_type": "code",
   "execution_count": 19,
   "metadata": {},
   "outputs": [
    {
     "ename": "NameError",
     "evalue": "name 'regular_tot_amount' is not defined",
     "output_type": "error",
     "traceback": [
      "\u001b[0;31m---------------------------------------------------------------------------\u001b[0m",
      "\u001b[0;31mNameError\u001b[0m                                 Traceback (most recent call last)",
      "\u001b[0;32m<ipython-input-19-ca5ec51a1752>\u001b[0m in \u001b[0;36m<module>\u001b[0;34m()\u001b[0m\n\u001b[1;32m      3\u001b[0m \u001b[0mregular_purity\u001b[0m \u001b[0;34m=\u001b[0m \u001b[0mdict\u001b[0m\u001b[0;34m(\u001b[0m\u001b[0;34m)\u001b[0m\u001b[0;34m\u001b[0m\u001b[0m\n\u001b[1;32m      4\u001b[0m \u001b[0mregular_entropy\u001b[0m \u001b[0;34m=\u001b[0m \u001b[0mdict\u001b[0m\u001b[0;34m(\u001b[0m\u001b[0;34m)\u001b[0m\u001b[0;34m\u001b[0m\u001b[0m\n\u001b[0;32m----> 5\u001b[0;31m \u001b[0;32mfor\u001b[0m \u001b[0mcustomer_id\u001b[0m \u001b[0;32min\u001b[0m \u001b[0mregular_tot_amount\u001b[0m\u001b[0;34m:\u001b[0m\u001b[0;34m\u001b[0m\u001b[0m\n\u001b[0m\u001b[1;32m      6\u001b[0m     \u001b[0mregular_purity\u001b[0m\u001b[0;34m[\u001b[0m\u001b[0mcustomer_id\u001b[0m\u001b[0;34m]\u001b[0m \u001b[0;34m=\u001b[0m \u001b[0mcol_pur_pattern\u001b[0m\u001b[0;34m[\u001b[0m\u001b[0mcustomer_id\u001b[0m\u001b[0;34m]\u001b[0m\u001b[0;34m\u001b[0m\u001b[0m\n\u001b[1;32m      7\u001b[0m     \u001b[0;32mif\u001b[0m \u001b[0mcol_ent_pattern\u001b[0m\u001b[0;34m[\u001b[0m\u001b[0mcustomer_id\u001b[0m\u001b[0;34m]\u001b[0m \u001b[0;32mis\u001b[0m \u001b[0;32mnot\u001b[0m \u001b[0mnp\u001b[0m\u001b[0;34m.\u001b[0m\u001b[0mnan\u001b[0m\u001b[0;34m:\u001b[0m\u001b[0;34m\u001b[0m\u001b[0m\n",
      "\u001b[0;31mNameError\u001b[0m: name 'regular_tot_amount' is not defined"
     ]
    }
   ],
   "source": [
    "regular_psize = defaultdict(int)\n",
    "regular_cfootprints = defaultdict(int)\n",
    "regular_purity = dict()\n",
    "regular_entropy = dict()\n",
    "for customer_id in regular_tot_amount:\n",
    "    regular_purity[customer_id] = col_pur_pattern[customer_id]\n",
    "    if col_ent_pattern[customer_id] is not np.nan:\n",
    "        regular_entropy[customer_id] = col_ent_pattern[customer_id]\n",
    "    \n",
    "    regular_psize[customer_id] += np.sum(col_psize_pattern[customer_id].values())\n",
    "    for cf in col_psize_pattern[customer_id]:\n",
    "        regular_cfootprints[cf] += col_psize_pattern[customer_id][cf]\n",
    "    "
   ]
  },
  {
   "cell_type": "code",
   "execution_count": 264,
   "metadata": {},
   "outputs": [],
   "source": [
    "changing_psize = defaultdict(int)\n",
    "changing_cfootprints = defaultdict(int)\n",
    "\n",
    "changing_purity = dict()\n",
    "changing_entropy = dict()\n",
    "for customer_id in changing_tot_amount:\n",
    "    if customer_id in col_pur_pattern:\n",
    "        changing_purity[customer_id] = col_pur_pattern[customer_id]\n",
    "        changing_entropy[customer_id] = col_ent_pattern[customer_id]\n",
    "        \n",
    "        changing_psize[customer_id] += np.sum(col_psize_pattern[customer_id].values())\n",
    "        for cf in col_psize_pattern[customer_id]:\n",
    "            changing_cfootprints[cf] += col_psize_pattern[customer_id][cf]"
   ]
  },
  {
   "cell_type": "code",
   "execution_count": null,
   "metadata": {
    "collapsed": true
   },
   "outputs": [],
   "source": []
  },
  {
   "cell_type": "code",
   "execution_count": 265,
   "metadata": {},
   "outputs": [
    {
     "name": "stdout",
     "output_type": "stream",
     "text": [
      "29 5134908\n",
      "38 329327\n",
      "1 233939\n",
      "50 77421\n",
      "0 69674\n",
      "4 37942\n",
      "24 33307\n",
      "31 31180\n",
      "25 29096\n",
      "14 26532\n"
     ]
    }
   ],
   "source": [
    "for k in sorted(regular_cfootprints, key=regular_cfootprints.get, reverse=True)[:10]:\n",
    "    print k, regular_cfootprints[k]"
   ]
  },
  {
   "cell_type": "code",
   "execution_count": 266,
   "metadata": {},
   "outputs": [
    {
     "name": "stdout",
     "output_type": "stream",
     "text": [
      "29 4369471\n",
      "1 824030\n",
      "14 654215\n",
      "21 599280\n",
      "31 589046\n",
      "25 567405\n",
      "24 554654\n",
      "4 506156\n",
      "0 447928\n",
      "2 444492\n"
     ]
    }
   ],
   "source": [
    "for k in sorted(changing_cfootprints, key=changing_cfootprints.get, reverse=True)[:10]:\n",
    "    print k, changing_cfootprints[k]"
   ]
  },
  {
   "cell_type": "code",
   "execution_count": null,
   "metadata": {
    "collapsed": true
   },
   "outputs": [],
   "source": []
  },
  {
   "cell_type": "code",
   "execution_count": 292,
   "metadata": {},
   "outputs": [
    {
     "data": {
      "text/plain": [
       "(array([   20.,   411.,  1071.,  1572.,  1802.,  1826.,  1795.,  1666.,\n",
       "         1541.,  1310.,  1205.,  1083.,   898.,   828.,   781.,   709.,\n",
       "          577.,   551.,   458.,   436.,   388.,   350.,   303.,   273.,\n",
       "          230.,   212.,   192.,   161.,   159.,   150.,   123.,   128.,\n",
       "          126.,    90.,    96.,    85.,    57.,    80.,    67.,    70.,\n",
       "           38.,    45.,    52.,    34.,    33.,    30.,    30.,    27.,\n",
       "           25.]),\n",
       " array([    0,  1000,  2000,  3000,  4000,  5000,  6000,  7000,  8000,\n",
       "         9000, 10000, 11000, 12000, 13000, 14000, 15000, 16000, 17000,\n",
       "        18000, 19000, 20000, 21000, 22000, 23000, 24000, 25000, 26000,\n",
       "        27000, 28000, 29000, 30000, 31000, 32000, 33000, 34000, 35000,\n",
       "        36000, 37000, 38000, 39000, 40000, 41000, 42000, 43000, 44000,\n",
       "        45000, 46000, 47000, 48000, 49000]),\n",
       " <a list of 49 Patch objects>)"
      ]
     },
     "execution_count": 292,
     "metadata": {},
     "output_type": "execute_result"
    },
    {
     "data": {
      "image/png": "[encoded data removed]",
      "text/plain": [
       "<matplotlib.figure.Figure at 0x13bbb3d50>"
      ]
     },
     "metadata": {},
     "output_type": "display_data"
    }
   ],
   "source": [
    "plt.hist(regular_tot_amount_sum.values(), bins=np.arange(0, 50000, 1000))\n",
    "#plt.yscale('log')"
   ]
  },
  {
   "cell_type": "code",
   "execution_count": 293,
   "metadata": {},
   "outputs": [
    {
     "data": {
      "text/plain": [
       "(array([  1.00000000e+00,   1.01000000e+02,   5.19000000e+02,\n",
       "          1.11800000e+03,   1.65300000e+03,   1.93600000e+03,\n",
       "          2.28300000e+03,   2.48300000e+03,   2.48500000e+03,\n",
       "          2.48300000e+03,   2.41000000e+03,   2.31600000e+03,\n",
       "          2.26200000e+03,   2.16100000e+03,   2.04600000e+03,\n",
       "          2.01300000e+03,   1.88300000e+03,   1.80400000e+03,\n",
       "          1.71000000e+03,   1.55800000e+03,   1.58700000e+03,\n",
       "          1.48700000e+03,   1.44300000e+03,   1.41000000e+03,\n",
       "          1.26400000e+03,   1.24400000e+03,   1.14900000e+03,\n",
       "          1.16000000e+03,   1.03300000e+03,   1.02600000e+03,\n",
       "          9.42000000e+02,   8.78000000e+02,   8.72000000e+02,\n",
       "          8.25000000e+02,   7.96000000e+02,   6.97000000e+02,\n",
       "          7.53000000e+02,   6.31000000e+02,   6.12000000e+02,\n",
       "          5.86000000e+02,   5.54000000e+02,   5.33000000e+02,\n",
       "          4.73000000e+02,   5.39000000e+02,   4.52000000e+02,\n",
       "          4.35000000e+02,   4.05000000e+02,   3.76000000e+02,\n",
       "          3.40000000e+02]),\n",
       " array([    0,  1000,  2000,  3000,  4000,  5000,  6000,  7000,  8000,\n",
       "         9000, 10000, 11000, 12000, 13000, 14000, 15000, 16000, 17000,\n",
       "        18000, 19000, 20000, 21000, 22000, 23000, 24000, 25000, 26000,\n",
       "        27000, 28000, 29000, 30000, 31000, 32000, 33000, 34000, 35000,\n",
       "        36000, 37000, 38000, 39000, 40000, 41000, 42000, 43000, 44000,\n",
       "        45000, 46000, 47000, 48000, 49000]),\n",
       " <a list of 49 Patch objects>)"
      ]
     },
     "execution_count": 293,
     "metadata": {},
     "output_type": "execute_result"
    },
    {
     "data": {
      "image/png": "[encoded data removed]",
      "text/plain": [
       "<matplotlib.figure.Figure at 0x13beb1110>"
      ]
     },
     "metadata": {},
     "output_type": "display_data"
    }
   ],
   "source": [
    "plt.hist(changing_tot_amount_sum.values(), bins=np.arange(0, 50000, 1000))\n",
    "#plt.yscale('log')"
   ]
  },
  {
   "cell_type": "code",
   "execution_count": 225,
   "metadata": {
    "collapsed": true
   },
   "outputs": [],
   "source": [
    "from calculate_aggregate_statistics import *"
   ]
  },
  {
   "cell_type": "code",
   "execution_count": 281,
   "metadata": {},
   "outputs": [
    {
     "data": {
      "text/plain": [
       "{'10p': 3646.6000000000004,\n",
       " '25p': 5734.5,\n",
       " '50p': 9544.0,\n",
       " '75p': 16267.0,\n",
       " '90p': 26623.600000000002,\n",
       " 'avg': 14189.756737218362,\n",
       " 'cov': 0.61343131201003243,\n",
       " 'gin': 0.46126574661544484,\n",
       " 'iqm': 10018.950598441643,\n",
       " 'iqr': 10532.5,\n",
       " 'kur': 1301.2140548618856,\n",
       " 'mad': 9431.1601129569917,\n",
       " 'med': 9544.0,\n",
       " 'skw': 25.637787627995277,\n",
       " 'std': 23131.777689539093,\n",
       " 'var': 535079139.07825851}"
      ]
     },
     "execution_count": 281,
     "metadata": {},
     "output_type": "execute_result"
    }
   ],
   "source": [
    "calculate_aggregate(regular_tot_amount_sum.values())"
   ]
  },
  {
   "cell_type": "code",
   "execution_count": 283,
   "metadata": {},
   "outputs": [
    {
     "data": {
      "text/plain": [
       "{'10p': 6578.0,\n",
       " '25p': 10589.0,\n",
       " '50p': 18633.0,\n",
       " '75p': 31670.0,\n",
       " '90p': 48231.000000000044,\n",
       " 'avg': 24014.350557750229,\n",
       " 'cov': 1.2354871272527208,\n",
       " 'gin': 0.39931112863088036,\n",
       " 'iqm': 19420.540289381282,\n",
       " 'iqr': 21081.0,\n",
       " 'kur': 49.36870353459497,\n",
       " 'mad': 13972.654734085118,\n",
       " 'med': 18633.0,\n",
       " 'skw': 3.194764978969885,\n",
       " 'std': 19437.151572068185,\n",
       " 'var': 377802861.23555273}"
      ]
     },
     "execution_count": 283,
     "metadata": {},
     "output_type": "execute_result"
    }
   ],
   "source": [
    "calculate_aggregate(changing_tot_amount_sum.values())"
   ]
  },
  {
   "cell_type": "code",
   "execution_count": 260,
   "metadata": {},
   "outputs": [
    {
     "data": {
      "text/plain": [
       "{'10p': 6548.8000000000002,\n",
       " '25p': 10581.0,\n",
       " '50p': 18586.0,\n",
       " '75p': 31479.5,\n",
       " '90p': 48196.60000000002,\n",
       " 'avg': 23916.170810072694,\n",
       " 'cov': 1.2532434405548267,\n",
       " 'gin': 0.39958023311754298,\n",
       " 'iqm': 19326.487873433987,\n",
       " 'iqr': 20898.5,\n",
       " 'kur': 9.494238331230383,\n",
       " 'mad': 13932.154996643081,\n",
       " 'med': 18586.0,\n",
       " 'skw': 2.1929699531150693,\n",
       " 'std': 19083.419897641517,\n",
       " 'var': 364176914.9897002}"
      ]
     },
     "execution_count": 260,
     "metadata": {},
     "output_type": "execute_result"
    }
   ],
   "source": [
    "calculate_aggregate(random.choice(changing_tot_amount.values(), size=len(regular_tot_amount)))"
   ]
  },
  {
   "cell_type": "code",
   "execution_count": 236,
   "metadata": {},
   "outputs": [
    {
     "data": {
      "text/plain": [
       "{'10p': 0.67010309278350511,\n",
       " '25p': 0.78719810235767684,\n",
       " '50p': 0.90990990990990994,\n",
       " '75p': 1.0,\n",
       " '90p': 1.0,\n",
       " 'avg': 0.87666943626046112,\n",
       " 'cov': 6.1969541502563406,\n",
       " 'gin': 0.085576181455921718,\n",
       " 'iqm': 0.94452705375435031,\n",
       " 'iqr': 0.21280189764232316,\n",
       " 'kur': 0.28637714333865594,\n",
       " 'mad': 0.11778036442792345,\n",
       " 'med': 0.90990990990990994,\n",
       " 'skw': -1.0100511745317706,\n",
       " 'std': 0.14146779450098032,\n",
       " 'var': 0.020013136880971595}"
      ]
     },
     "execution_count": 236,
     "metadata": {},
     "output_type": "execute_result"
    }
   ],
   "source": [
    "calculate_aggregate(regular_purity.values())"
   ]
  },
  {
   "cell_type": "code",
   "execution_count": 315,
   "metadata": {},
   "outputs": [
    {
     "data": {
      "text/plain": [
       "{'10p': 0.21612903225806451,\n",
       " '25p': 0.27243589743589741,\n",
       " '50p': 0.35751295336787564,\n",
       " '75p': 0.47096774193548385,\n",
       " '90p': 0.59639561157542254,\n",
       " 'avg': 0.38315202161748579,\n",
       " 'cov': 2.6712672182299055,\n",
       " 'gin': 0.20951050714994568,\n",
       " 'iqm': 0.36201904925800205,\n",
       " 'iqr': 0.19853184449958644,\n",
       " 'kur': -0.11941855904654064,\n",
       " 'mad': 0.11628536611326634,\n",
       " 'med': 0.35751295336787564,\n",
       " 'skw': 0.6876634628760263,\n",
       " 'std': 0.14343455383373382,\n",
       " 'var': 0.020573471233482288}"
      ]
     },
     "execution_count": 315,
     "metadata": {},
     "output_type": "execute_result"
    }
   ],
   "source": [
    "calculate_aggregate(changing_purity.values())"
   ]
  },
  {
   "cell_type": "code",
   "execution_count": null,
   "metadata": {
    "collapsed": true
   },
   "outputs": [],
   "source": [
    "regular_entropy.values()"
   ]
  },
  {
   "cell_type": "code",
   "execution_count": 316,
   "metadata": {},
   "outputs": [
    {
     "data": {
      "text/plain": [
       "{'10p': 0.42784139097608365,\n",
       " '25p': 0.51879842081493599,\n",
       " '50p': 0.63261318527004018,\n",
       " '75p': 0.76110671917117867,\n",
       " '90p': 0.87762376587438806,\n",
       " 'avg': 0.64140186918863662,\n",
       " 'cov': 3.8271889466830111,\n",
       " 'gin': 0.14908124659681476,\n",
       " 'iqm': 0.63505637882506039,\n",
       " 'iqr': 0.24230829835624268,\n",
       " 'kur': -0.5396977156084506,\n",
       " 'mad': 0.13719939474628673,\n",
       " 'med': 0.63261318527004018,\n",
       " 'skw': 0.0895192874479557,\n",
       " 'std': 0.167590855357307,\n",
       " 'var': 0.028086694799393797}"
      ]
     },
     "execution_count": 316,
     "metadata": {},
     "output_type": "execute_result"
    }
   ],
   "source": [
    "x = np.asarray(regular_entropy.values())\n",
    "calculate_aggregate(x[~numpy.isnan(x)])"
   ]
  },
  {
   "cell_type": "code",
   "execution_count": 317,
   "metadata": {},
   "outputs": [
    {
     "data": {
      "text/plain": [
       "{'10p': 0.75640553649440923,\n",
       " '25p': 0.84731558459784839,\n",
       " '50p': 0.91246368892484986,\n",
       " '75p': 0.95509348047121645,\n",
       " '90p': 0.97858947106820815,\n",
       " 'avg': 0.88701074008954939,\n",
       " 'cov': 9.4774191813424213,\n",
       " 'gin': 0.054897049996073366,\n",
       " 'iqm': 0.90903645087830731,\n",
       " 'iqr': 0.10777789587336806,\n",
       " 'kur': 3.265754529116811,\n",
       " 'mad': 0.070894747604065014,\n",
       " 'med': 0.91246368892484986,\n",
       " 'skw': -1.5660543524856934,\n",
       " 'std': 0.093592013091048004,\n",
       " 'var': 0.0087594649144349009}"
      ]
     },
     "execution_count": 317,
     "metadata": {},
     "output_type": "execute_result"
    }
   ],
   "source": [
    "calculate_aggregate(changing_entropy.values())"
   ]
  },
  {
   "cell_type": "code",
   "execution_count": 268,
   "metadata": {},
   "outputs": [
    {
     "data": {
      "text/plain": [
       "{'10p': 112.0,\n",
       " '25p': 172.5,\n",
       " '50p': 257.0,\n",
       " '75p': 338.0,\n",
       " '90p': 379.0,\n",
       " 'avg': 250.70922527009117,\n",
       " 'cov': 2.5767037496063301,\n",
       " 'gin': 1.0000401622555122,\n",
       " 'iqm': 255.98443642198154,\n",
       " 'iqr': 165.5,\n",
       " 'kur': -1.0699711116278001,\n",
       " 'mad': 83.572053287336743,\n",
       " 'med': 257.0,\n",
       " 'skw': -0.22476202220617128,\n",
       " 'std': 97.29842839262939,\n",
       " 'var': 9466.9841676756296}"
      ]
     },
     "execution_count": 268,
     "metadata": {},
     "output_type": "execute_result"
    }
   ],
   "source": [
    "calculate_aggregate(regular_psize.values())"
   ]
  },
  {
   "cell_type": "code",
   "execution_count": 267,
   "metadata": {},
   "outputs": [
    {
     "data": {
      "text/plain": [
       "{'10p': 88.0,\n",
       " '25p': 138.0,\n",
       " '50p': 219.0,\n",
       " '75p': 312.0,\n",
       " '90p': 367.0,\n",
       " 'avg': 223.35286460304246,\n",
       " 'cov': 2.2105448967039383,\n",
       " 'gin': 1.0000151366078862,\n",
       " 'iqm': 220.88488169064965,\n",
       " 'iqr': 174.0,\n",
       " 'kur': -1.168601613209599,\n",
       " 'mad': 87.262936104297523,\n",
       " 'med': 219.0,\n",
       " 'skw': 0.03350499046215719,\n",
       " 'std': 101.03973230133244,\n",
       " 'var': 10209.027503524921}"
      ]
     },
     "execution_count": 267,
     "metadata": {},
     "output_type": "execute_result"
    }
   ],
   "source": [
    "calculate_aggregate(changing_psize.values())"
   ]
  },
  {
   "cell_type": "code",
   "execution_count": null,
   "metadata": {
    "collapsed": true
   },
   "outputs": [],
   "source": []
  },
  {
   "cell_type": "code",
   "execution_count": 250,
   "metadata": {
    "collapsed": true
   },
   "outputs": [],
   "source": [
    "amount = list()\n",
    "purity = list()\n",
    "entropy = list()\n",
    "for customer_id in regular_tot_amount:\n",
    "    if ~numpy.isnan(regular_entropy[customer_id]):\n",
    "        amount.append(regular_tot_amount[customer_id])\n",
    "        purity.append(regular_purity[customer_id])\n",
    "        entropy.append(regular_entropy[customer_id])\n"
   ]
  },
  {
   "cell_type": "code",
   "execution_count": 251,
   "metadata": {},
   "outputs": [
    {
     "data": {
      "text/plain": [
       "((-0.24418426172222435, 6.5644219408358763e-187),\n",
       " (0.26468600127399222, 1.898764738359311e-220))"
      ]
     },
     "execution_count": 251,
     "metadata": {},
     "output_type": "execute_result"
    }
   ],
   "source": [
    "pearsonr(amount, purity), pearsonr(amount, entropy)"
   ]
  },
  {
   "cell_type": "code",
   "execution_count": 253,
   "metadata": {},
   "outputs": [
    {
     "data": {
      "text/plain": [
       "((-0.2857000144918912, 0.0), (0.25767485806693435, 0.0))"
      ]
     },
     "execution_count": 253,
     "metadata": {},
     "output_type": "execute_result"
    }
   ],
   "source": [
    "amount = list()\n",
    "purity = list()\n",
    "entropy = list()\n",
    "for customer_id in changing_tot_amount:\n",
    "    if customer_id in changing_entropy and ~numpy.isnan(changing_entropy[customer_id]):\n",
    "        amount.append(changing_tot_amount[customer_id])\n",
    "        purity.append(changing_purity[customer_id])\n",
    "        entropy.append(changing_entropy[customer_id])\n",
    "pearsonr(amount, purity), pearsonr(amount, entropy)"
   ]
  },
  {
   "cell_type": "code",
   "execution_count": null,
   "metadata": {
    "collapsed": true
   },
   "outputs": [],
   "source": []
  },
  {
   "cell_type": "code",
   "execution_count": 301,
   "metadata": {},
   "outputs": [],
   "source": [
    "regular_raio = list()\n",
    "changing_ratio = list()\n",
    "for customer_id in regular_tot_amount:\n",
    "    regular_raio.append(ratio_col_ind[customer_id])\n",
    "for customer_id in changing_tot_amount:\n",
    "    if customer_id in ratio_col_ind:\n",
    "        changing_ratio.append(ratio_col_ind[customer_id])"
   ]
  },
  {
   "cell_type": "code",
   "execution_count": 303,
   "metadata": {},
   "outputs": [
    {
     "data": {
      "text/plain": [
       "{'10p': 0.125,\n",
       " '25p': 0.14285714285714285,\n",
       " '50p': 0.25,\n",
       " '75p': 0.375,\n",
       " '90p': 0.5,\n",
       " 'avg': 0.27353111989241946,\n",
       " 'cov': 1.8846672396682218,\n",
       " 'gin': 0.28883461108802522,\n",
       " 'iqm': 0.24103954329352087,\n",
       " 'iqr': 0.23214285714285715,\n",
       " 'kur': 1.1654631174958903,\n",
       " 'mad': 0.12011277863911354,\n",
       " 'med': 0.25,\n",
       " 'skw': 1.0182676065280554,\n",
       " 'std': 0.14513496819766022,\n",
       " 'var': 0.021064158993735847}"
      ]
     },
     "execution_count": 303,
     "metadata": {},
     "output_type": "execute_result"
    }
   ],
   "source": [
    "calculate_aggregate(regular_raio)"
   ]
  },
  {
   "cell_type": "code",
   "execution_count": 305,
   "metadata": {},
   "outputs": [
    {
     "data": {
      "text/plain": [
       "({'10p': 0.625,\n",
       "  '25p': 0.75,\n",
       "  '50p': 1.0,\n",
       "  '75p': 1.0,\n",
       "  '90p': 1.0,\n",
       "  'avg': 0.87175008590054381,\n",
       "  'cov': 5.4467565753474343,\n",
       "  'gin': 0.095251640737214149,\n",
       "  'iqm': 0.94102340350121394,\n",
       "  'iqr': 0.25,\n",
       "  'kur': -0.017430901540839372,\n",
       "  'mad': 0.13293118635226367,\n",
       "  'med': 1.0,\n",
       "  'skw': -1.0295583393071883,\n",
       "  'std': 0.16004939340343793,\n",
       "  'var': 0.025615808328808439},\n",
       " 66065)"
      ]
     },
     "execution_count": 305,
     "metadata": {},
     "output_type": "execute_result"
    }
   ],
   "source": [
    "calculate_aggregate(changing_ratio), len(changing_ratio)"
   ]
  },
  {
   "cell_type": "code",
   "execution_count": 325,
   "metadata": {},
   "outputs": [
    {
     "data": {
      "text/plain": [
       "(0.2857142857142857, 1.0, 0.7262763290972253, 0.2737236709027747)"
      ]
     },
     "execution_count": 325,
     "metadata": {},
     "output_type": "execute_result"
    }
   ],
   "source": [
    "min(changing_ratio), max(regular_raio), 1.0*len(changing_ratio)/(len(regular_raio)+len(changing_ratio)), \\\n",
    "1.0*len(regular_raio)/(len(regular_raio)+len(changing_ratio))"
   ]
  },
  {
   "cell_type": "code",
   "execution_count": 314,
   "metadata": {},
   "outputs": [
    {
     "data": {
      "text/plain": [
       "[0.6,\n",
       " 0.6,\n",
       " 0.6,\n",
       " 0.6,\n",
       " 0.6,\n",
       " 0.6,\n",
       " 0.6,\n",
       " 0.6,\n",
       " 0.6,\n",
       " 0.6,\n",
       " 0.6,\n",
       " 0.6,\n",
       " 0.6,\n",
       " 0.6,\n",
       " 0.6,\n",
       " 0.6,\n",
       " 0.6,\n",
       " 0.6,\n",
       " 0.6,\n",
       " 0.6,\n",
       " 0.6,\n",
       " 0.6,\n",
       " 0.6,\n",
       " 0.6,\n",
       " 0.6,\n",
       " 0.6,\n",
       " 0.6,\n",
       " 0.6,\n",
       " 0.6,\n",
       " 0.6,\n",
       " 0.6,\n",
       " 0.6,\n",
       " 0.6,\n",
       " 0.6,\n",
       " 0.6,\n",
       " 0.6,\n",
       " 0.6,\n",
       " 0.6,\n",
       " 0.6,\n",
       " 0.6,\n",
       " 0.6,\n",
       " 0.6,\n",
       " 0.6,\n",
       " 0.6,\n",
       " 0.6,\n",
       " 0.6,\n",
       " 0.6,\n",
       " 0.6,\n",
       " 0.6,\n",
       " 0.6,\n",
       " 0.6,\n",
       " 0.6,\n",
       " 0.6,\n",
       " 0.6,\n",
       " 0.6,\n",
       " 0.6,\n",
       " 0.6,\n",
       " 0.6,\n",
       " 0.6,\n",
       " 0.6,\n",
       " 0.6,\n",
       " 0.6,\n",
       " 0.6,\n",
       " 0.6,\n",
       " 0.6,\n",
       " 0.6,\n",
       " 0.6,\n",
       " 0.6,\n",
       " 0.6,\n",
       " 0.6,\n",
       " 0.6,\n",
       " 0.6,\n",
       " 0.6,\n",
       " 0.6,\n",
       " 0.6,\n",
       " 0.6,\n",
       " 0.6,\n",
       " 0.6,\n",
       " 0.6,\n",
       " 0.6,\n",
       " 0.6,\n",
       " 0.6,\n",
       " 0.6,\n",
       " 0.6,\n",
       " 0.6,\n",
       " 0.6,\n",
       " 0.6,\n",
       " 0.6,\n",
       " 0.6,\n",
       " 0.6,\n",
       " 0.6,\n",
       " 0.6,\n",
       " 0.6,\n",
       " 0.6,\n",
       " 0.6,\n",
       " 0.6,\n",
       " 0.6,\n",
       " 0.6,\n",
       " 0.6,\n",
       " 0.6]"
      ]
     },
     "execution_count": 314,
     "metadata": {},
     "output_type": "execute_result"
    }
   ],
   "source": [
    "sorted(regular_raio, reverse=True)[900:1000]"
   ]
  },
  {
   "cell_type": "code",
   "execution_count": null,
   "metadata": {
    "collapsed": true
   },
   "outputs": [],
   "source": []
  }
 ],
 "metadata": {
  "kernelspec": {
   "display_name": "Python 2",
   "language": "python",
   "name": "python2"
  },
  "language_info": {
   "codemirror_mode": {
    "name": "ipython",
    "version": 2
   },
   "file_extension": ".py",
   "mimetype": "text/x-python",
   "name": "python",
   "nbconvert_exporter": "python",
   "pygments_lexer": "ipython2",
   "version": "2.7.12"
  }
 },
 "nbformat": 4,
 "nbformat_minor": 1
}
