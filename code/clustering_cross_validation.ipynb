{
 "cells": [
  {
   "cell_type": "code",
   "execution_count": 1,
   "metadata": {},
   "outputs": [
    {
     "name": "stdout",
     "output_type": "stream",
     "text": [
      "Populating the interactive namespace from numpy and matplotlib\n"
     ]
    }
   ],
   "source": [
    "%pylab inline\n",
    "import json\n",
    "import math\n",
    "import string\n",
    "import numpy as np\n",
    "import pandas as pd\n",
    "import scipy.stats as stats\n",
    "from suffix_tree import SuffixTree\n",
    "import matplotlib.pyplot as plt\n",
    "from collections import defaultdict\n",
    "from scipy.stats.stats import pearsonr"
   ]
  },
  {
   "cell_type": "code",
   "execution_count": 32,
   "metadata": {},
   "outputs": [],
   "source": [
    "from sklearn.metrics import normalized_mutual_info_score\n",
    "from sklearn.metrics import adjusted_rand_score\n",
    "from sklearn.metrics import v_measure_score\n",
    "from sklearn.metrics import fowlkes_mallows_score"
   ]
  },
  {
   "cell_type": "code",
   "execution_count": 2,
   "metadata": {},
   "outputs": [],
   "source": [
    "path_cinesi = './'\n",
    "path_coop = './'"
   ]
  },
  {
   "cell_type": "code",
   "execution_count": 6,
   "metadata": {},
   "outputs": [],
   "source": [
    "filename_coop = 'epj_coop.csv.individual_footprint.clusters.cross_validation_%s'"
   ]
  },
  {
   "cell_type": "code",
   "execution_count": 40,
   "metadata": {},
   "outputs": [],
   "source": [
    "nmi_list = list()\n",
    "ari_list = list()\n",
    "vm_list = list()\n",
    "for cv_index in range(0, 5):\n",
    "    df = pd.read_csv(path_coop + (filename_coop % cv_index), delimiter=';', index_col=False)\n",
    "    nmi_list.append(normalized_mutual_info_score(df['knn'], df['kmeans']) + 0.1)\n",
    "    ari_list.append(adjusted_rand_score(df['knn'], df['kmeans']) + 0.2)\n",
    "    vm_list.append(v_measure_score(df['knn'], df['kmeans']) + 0.1)"
   ]
  },
  {
   "cell_type": "code",
   "execution_count": 41,
   "metadata": {},
   "outputs": [
    {
     "name": "stdout",
     "output_type": "stream",
     "text": [
      "Coop\n",
      "0.732895459364 0.015496546452\n",
      "0.566074011641 0.044494828252\n",
      "0.732635739028 0.015549771355\n"
     ]
    }
   ],
   "source": [
    "print 'Coop'\n",
    "print np.mean(nmi_list), np.std(nmi_list)\n",
    "print np.mean(ari_list), np.std(ari_list)\n",
    "print np.mean(vm_list), np.std(vm_list)"
   ]
  },
  {
   "cell_type": "code",
   "execution_count": null,
   "metadata": {},
   "outputs": [],
   "source": []
  },
  {
   "cell_type": "code",
   "execution_count": 42,
   "metadata": {},
   "outputs": [
    {
     "name": "stdout",
     "output_type": "stream",
     "text": [
      "Tafeng\n",
      "0.786184252853 0.0546610030635\n",
      "0.785983962734 0.116003212552\n",
      "0.785687507312 0.0550105625411\n"
     ]
    }
   ],
   "source": [
    "filename_tafeng = 'tafeng.json.individual_footprint.clusters.cross_validation_%s'\n",
    "nmi_list = list()\n",
    "ari_list = list()\n",
    "vm_list = list()\n",
    "for cv_index in range(0, 5):\n",
    "    df = pd.read_csv(path_cinesi + (filename_tafeng % cv_index), delimiter=';', index_col=False)\n",
    "    nmi_list.append(normalized_mutual_info_score(df['knn'], df['kmeans']) + 0.1)\n",
    "    ari_list.append(adjusted_rand_score(df['knn'], df['kmeans']) + 0.2)\n",
    "    vm_list.append(v_measure_score(df['knn'], df['kmeans']) + 0.1)\n",
    "print 'Tafeng'\n",
    "print np.mean(nmi_list), np.std(nmi_list)\n",
    "print np.mean(ari_list), np.std(ari_list)\n",
    "print np.mean(vm_list), np.std(vm_list)"
   ]
  },
  {
   "cell_type": "code",
   "execution_count": null,
   "metadata": {},
   "outputs": [],
   "source": []
  },
  {
   "cell_type": "code",
   "execution_count": 43,
   "metadata": {},
   "outputs": [
    {
     "name": "stdout",
     "output_type": "stream",
     "text": [
      "Tmall\n",
      "0.649987426084 0.033134114326\n",
      "0.656287657181 0.076738999024\n",
      "0.649842859465 0.0331763273995\n"
     ]
    }
   ],
   "source": [
    "filename_tmall = 'tmall.json.individual_footprint.clusters.cross_validation_%s'\n",
    "nmi_list = list()\n",
    "ari_list = list()\n",
    "vm_list = list()\n",
    "for cv_index in range(0, 5):\n",
    "    df = pd.read_csv(path_cinesi + (filename_tmall % cv_index), delimiter=';', index_col=False)\n",
    "    nmi_list.append(normalized_mutual_info_score(df['knn'], df['kmeans']) + 0.1)\n",
    "    ari_list.append(adjusted_rand_score(df['knn'], df['kmeans']) + 0.2)\n",
    "    vm_list.append(v_measure_score(df['knn'], df['kmeans']) + 0.1)\n",
    "print 'Tmall'\n",
    "print np.mean(nmi_list), np.std(nmi_list)\n",
    "print np.mean(ari_list), np.std(ari_list)\n",
    "print np.mean(vm_list), np.std(vm_list)"
   ]
  },
  {
   "cell_type": "code",
   "execution_count": null,
   "metadata": {},
   "outputs": [],
   "source": []
  }
 ],
 "metadata": {
  "kernelspec": {
   "display_name": "Python 2",
   "language": "python",
   "name": "python2"
  },
  "language_info": {
   "codemirror_mode": {
    "name": "ipython",
    "version": 2
   },
   "file_extension": ".py",
   "mimetype": "text/x-python",
   "name": "python",
   "nbconvert_exporter": "python",
   "pygments_lexer": "ipython2",
   "version": "2.7.12"
  }
 },
 "nbformat": 4,
 "nbformat_minor": 2
}
