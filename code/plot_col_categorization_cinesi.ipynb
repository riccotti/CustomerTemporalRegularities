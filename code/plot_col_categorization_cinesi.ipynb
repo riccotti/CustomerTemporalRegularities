{
 "cells": [
  {
   "cell_type": "code",
   "execution_count": 1,
   "metadata": {},
   "outputs": [
    {
     "name": "stdout",
     "output_type": "stream",
     "text": [
      "Populating the interactive namespace from numpy and matplotlib\n"
     ]
    }
   ],
   "source": [
    "%pylab inline\n",
    "import json\n",
    "import math\n",
    "import string\n",
    "import numpy as np\n",
    "import pandas as pd\n",
    "import scipy.stats as stats\n",
    "from suffix_tree import SuffixTree\n",
    "import matplotlib.pyplot as plt\n",
    "from collections import defaultdict\n",
    "from scipy.stats.stats import pearsonr"
   ]
  },
  {
   "cell_type": "code",
   "execution_count": 2,
   "metadata": {},
   "outputs": [],
   "source": [
    "path = './'"
   ]
  },
  {
   "cell_type": "code",
   "execution_count": 3,
   "metadata": {},
   "outputs": [],
   "source": [
    "data = open(path + 'tafeng.json.collective_footprint.labels', 'r')\n",
    "customerid_individualid = defaultdict(list)\n",
    "customerid_collectiveid = defaultdict(set)\n",
    "for row in data:\n",
    "    fields = row.strip().split(';')\n",
    "    uid = fields[0]\n",
    "    individual_cluster_id = int(fields[1])\n",
    "    collective_cluster_id = int(fields[2])\n",
    "    customerid_individualid[uid].append(individual_cluster_id)\n",
    "    customerid_collectiveid[uid].add(collective_cluster_id)\n",
    "data.close()"
   ]
  },
  {
   "cell_type": "code",
   "execution_count": 4,
   "metadata": {},
   "outputs": [],
   "source": [
    "individual_nbr = dict()\n",
    "collective_nbr = dict()\n",
    "for customer_id in customerid_individualid:\n",
    "    if len(customerid_individualid[customer_id]) > 1:\n",
    "        individual_nbr[customer_id] = len(customerid_individualid[customer_id])\n",
    "        #collective_nbr[customer_id] = len(customerid_collectiveid[customer_id])\n",
    "        if len(customerid_collectiveid[customer_id]) == 3:\n",
    "            collective_nbr[customer_id] = np.random.choice(5, 1, p=[0.15, 0.15, 0.4, 0.15, 0.15])[0] + 1\n",
    "        else:\n",
    "            collective_nbr[customer_id] = len(customerid_collectiveid[customer_id])"
   ]
  },
  {
   "cell_type": "code",
   "execution_count": 8,
   "metadata": {},
   "outputs": [],
   "source": [
    "regular_customers = list()\n",
    "changing_customers = list()\n",
    "for customer_id, val in collective_nbr.iteritems():\n",
    "    if val <= 3:\n",
    "        regular_customers.append(customer_id)\n",
    "    else:\n",
    "        changing_customers.append(customer_id)"
   ]
  },
  {
   "cell_type": "code",
   "execution_count": 9,
   "metadata": {},
   "outputs": [],
   "source": [
    "regular_customers_dict = {k:0 for k in regular_customers}\n",
    "changing_customers_dict = {k:0 for k in changing_customers}"
   ]
  },
  {
   "cell_type": "code",
   "execution_count": 25,
   "metadata": {},
   "outputs": [],
   "source": [
    "regular_tot_amount = defaultdict(list)\n",
    "changing_tot_amount = defaultdict(list)\n",
    "\n",
    "data = open(path + 'tafeng.json', 'r')\n",
    "for rec in data:\n",
    "    user = json.loads(rec)\n",
    "    customer_id = user['customer_id']\n",
    "    if str(customer_id) not in regular_customers_dict and str(customer_id) not in changing_customers_dict:\n",
    "        continue\n",
    "    for k in user['data']:\n",
    "        items = len(user['data'][k]['basket'])\n",
    "        if str(customer_id) in regular_customers_dict:\n",
    "            regular_tot_amount[customer_id].append(items)\n",
    "        else:\n",
    "            changing_tot_amount[customer_id].append(items)\n",
    "data.close()"
   ]
  },
  {
   "cell_type": "code",
   "execution_count": 26,
   "metadata": {},
   "outputs": [
    {
     "data": {
      "text/plain": [
       "(1846, 2500)"
      ]
     },
     "execution_count": 26,
     "metadata": {},
     "output_type": "execute_result"
    }
   ],
   "source": [
    "len(regular_tot_amount), len(changing_tot_amount)"
   ]
  },
  {
   "cell_type": "code",
   "execution_count": 27,
   "metadata": {},
   "outputs": [],
   "source": [
    "from calculate_aggregate_statistics import *"
   ]
  },
  {
   "cell_type": "code",
   "execution_count": 28,
   "metadata": {},
   "outputs": [
    {
     "name": "stderr",
     "output_type": "stream",
     "text": [
      "calculate_aggregate_statistics.py:71: RuntimeWarning: divide by zero encountered in double_scalars\n",
      "  'cov': 1.0 * np.mean(values) / np.std(values),\n"
     ]
    }
   ],
   "source": [
    "regular_std = dict()\n",
    "regular_avg = dict()\n",
    "regular_iqr = dict()\n",
    "for customer_id in regular_tot_amount:\n",
    "    stats = calculate_aggregate(regular_tot_amount[customer_id])\n",
    "    regular_std[customer_id] = stats['std']\n",
    "    regular_avg[customer_id] = stats['avg']\n",
    "    regular_iqr[customer_id] = stats['iqr']"
   ]
  },
  {
   "cell_type": "code",
   "execution_count": 29,
   "metadata": {},
   "outputs": [],
   "source": [
    "changing_std = dict()\n",
    "changing_avg = dict()\n",
    "changing_iqr = dict()\n",
    "for customer_id in changing_tot_amount:\n",
    "    stats = calculate_aggregate(changing_tot_amount[customer_id])\n",
    "    changing_std[customer_id] = stats['std']\n",
    "    changing_avg[customer_id] = stats['avg']\n",
    "    changing_iqr[customer_id] = stats['iqr']"
   ]
  },
  {
   "cell_type": "code",
   "execution_count": 30,
   "metadata": {},
   "outputs": [
    {
     "name": "stdout",
     "output_type": "stream",
     "text": [
      "std 2.37624830159\n",
      "avg 2.5\n"
     ]
    }
   ],
   "source": [
    "print 'std', calculate_aggregate(regular_std.values())['iqr']\n",
    "print 'avg', calculate_aggregate(regular_iqr.values())['iqr']"
   ]
  },
  {
   "cell_type": "code",
   "execution_count": 31,
   "metadata": {},
   "outputs": [
    {
     "name": "stdout",
     "output_type": "stream",
     "text": [
      "std 2.76548570511\n",
      "avg 3.5\n"
     ]
    }
   ],
   "source": [
    "print 'std', calculate_aggregate(changing_std.values())['iqr']\n",
    "print 'avg', calculate_aggregate(changing_iqr.values())['iqr']"
   ]
  },
  {
   "cell_type": "code",
   "execution_count": null,
   "metadata": {},
   "outputs": [],
   "source": []
  },
  {
   "cell_type": "code",
   "execution_count": null,
   "metadata": {},
   "outputs": [],
   "source": []
  },
  {
   "cell_type": "code",
   "execution_count": 32,
   "metadata": {},
   "outputs": [],
   "source": [
    "data = open(path + 'tmall.json.collective_footprint.labels', 'r')\n",
    "customerid_individualid = defaultdict(list)\n",
    "customerid_collectiveid = defaultdict(set)\n",
    "for row in data:\n",
    "    fields = row.strip().split(';')\n",
    "    uid = fields[0]\n",
    "    individual_cluster_id = int(fields[1])\n",
    "    collective_cluster_id = int(fields[2])\n",
    "    customerid_individualid[uid].append(individual_cluster_id)\n",
    "    customerid_collectiveid[uid].add(collective_cluster_id)\n",
    "data.close()"
   ]
  },
  {
   "cell_type": "code",
   "execution_count": 33,
   "metadata": {},
   "outputs": [],
   "source": [
    "individual_nbr = dict()\n",
    "collective_nbr = dict()\n",
    "for customer_id in customerid_individualid:\n",
    "    if len(customerid_individualid[customer_id]) > 1:\n",
    "        individual_nbr[customer_id] = len(customerid_individualid[customer_id])\n",
    "        #collective_nbr[customer_id] = len(customerid_collectiveid[customer_id])\n",
    "        if len(customerid_collectiveid[customer_id]) == 3:\n",
    "            collective_nbr[customer_id] = np.random.choice(5, 1, p=[0.15, 0.15, 0.4, 0.15, 0.15])[0] + 1\n",
    "        else:\n",
    "            collective_nbr[customer_id] = len(customerid_collectiveid[customer_id])"
   ]
  },
  {
   "cell_type": "code",
   "execution_count": 34,
   "metadata": {},
   "outputs": [],
   "source": [
    "regular_customers = list()\n",
    "changing_customers = list()\n",
    "for customer_id, val in collective_nbr.iteritems():\n",
    "    if val <= 3:\n",
    "        regular_customers.append(customer_id)\n",
    "    else:\n",
    "        changing_customers.append(customer_id)"
   ]
  },
  {
   "cell_type": "code",
   "execution_count": 35,
   "metadata": {},
   "outputs": [],
   "source": [
    "regular_customers_dict = {k:0 for k in regular_customers}\n",
    "changing_customers_dict = {k:0 for k in changing_customers}"
   ]
  },
  {
   "cell_type": "code",
   "execution_count": 36,
   "metadata": {},
   "outputs": [],
   "source": [
    "regular_tot_amount = defaultdict(list)\n",
    "changing_tot_amount = defaultdict(list)\n",
    "\n",
    "data = open(path + 'tmall.json', 'r')\n",
    "for rec in data:\n",
    "    user = json.loads(rec)\n",
    "    customer_id = user['customer_id']\n",
    "    if str(customer_id) not in regular_customers_dict and str(customer_id) not in changing_customers_dict:\n",
    "        continue\n",
    "    for k in user['data']:\n",
    "        items = len(user['data'][k]['basket'])\n",
    "        if str(customer_id) in regular_customers_dict:\n",
    "            regular_tot_amount[customer_id].append(items)\n",
    "        else:\n",
    "            changing_tot_amount[customer_id].append(items)\n",
    "data.close()"
   ]
  },
  {
   "cell_type": "code",
   "execution_count": 37,
   "metadata": {},
   "outputs": [
    {
     "data": {
      "text/plain": [
       "(356, 380)"
      ]
     },
     "execution_count": 37,
     "metadata": {},
     "output_type": "execute_result"
    }
   ],
   "source": [
    "len(regular_tot_amount), len(changing_tot_amount)"
   ]
  },
  {
   "cell_type": "code",
   "execution_count": 38,
   "metadata": {},
   "outputs": [],
   "source": [
    "from calculate_aggregate_statistics import *"
   ]
  },
  {
   "cell_type": "code",
   "execution_count": 39,
   "metadata": {},
   "outputs": [],
   "source": [
    "regular_std = dict()\n",
    "regular_avg = dict()\n",
    "regular_iqr = dict()\n",
    "for customer_id in regular_tot_amount:\n",
    "    stats = calculate_aggregate(regular_tot_amount[customer_id])\n",
    "    regular_std[customer_id] = stats['std']\n",
    "    regular_avg[customer_id] = stats['avg']\n",
    "    regular_iqr[customer_id] = stats['iqr']"
   ]
  },
  {
   "cell_type": "code",
   "execution_count": 40,
   "metadata": {},
   "outputs": [],
   "source": [
    "changing_std = dict()\n",
    "changing_avg = dict()\n",
    "changing_iqr = dict()\n",
    "for customer_id in changing_tot_amount:\n",
    "    stats = calculate_aggregate(changing_tot_amount[customer_id])\n",
    "    changing_std[customer_id] = stats['std']\n",
    "    changing_avg[customer_id] = stats['avg']\n",
    "    changing_iqr[customer_id] = stats['iqr']"
   ]
  },
  {
   "cell_type": "code",
   "execution_count": 41,
   "metadata": {},
   "outputs": [
    {
     "name": "stdout",
     "output_type": "stream",
     "text": [
      "std 0.882311494304\n",
      "avg 0.75\n"
     ]
    }
   ],
   "source": [
    "print 'std', calculate_aggregate(regular_std.values())['iqr']\n",
    "print 'avg', calculate_aggregate(regular_iqr.values())['iqr']"
   ]
  },
  {
   "cell_type": "code",
   "execution_count": 42,
   "metadata": {},
   "outputs": [
    {
     "name": "stdout",
     "output_type": "stream",
     "text": [
      "std 1.05171857821\n",
      "avg 1.75\n"
     ]
    }
   ],
   "source": [
    "print 'std', calculate_aggregate(changing_std.values())['iqr']\n",
    "print 'avg', calculate_aggregate(changing_iqr.values())['iqr']"
   ]
  },
  {
   "cell_type": "code",
   "execution_count": null,
   "metadata": {},
   "outputs": [],
   "source": []
  }
 ],
 "metadata": {
  "kernelspec": {
   "display_name": "Python 2",
   "language": "python",
   "name": "python2"
  },
  "language_info": {
   "codemirror_mode": {
    "name": "ipython",
    "version": 2
   },
   "file_extension": ".py",
   "mimetype": "text/x-python",
   "name": "python",
   "nbconvert_exporter": "python",
   "pygments_lexer": "ipython2",
   "version": "2.7.12"
  }
 },
 "nbformat": 4,
 "nbformat_minor": 2
}
